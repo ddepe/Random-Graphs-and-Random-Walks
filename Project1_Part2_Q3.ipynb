{
 "cells": [
  {
   "cell_type": "code",
   "execution_count": 25,
   "metadata": {},
   "outputs": [],
   "source": [
    "library('igraph')\n",
    "library('Matrix')\n",
    "library('pracma')"
   ]
  },
  {
   "cell_type": "code",
   "execution_count": 26,
   "metadata": {},
   "outputs": [],
   "source": [
    "create_transition_matrix = function (g){\n",
    "    \n",
    "    # WARNING: make sure your graph is connected (you might input GCC of your graph)\n",
    "    \n",
    "    vs = V(g)\n",
    "    n = vcount(g)\n",
    "    adj = as_adjacency_matrix(g)\n",
    "    adj[diag(rowSums(adj) == 0)] = 1  # handle if the user is using the function for networks with isolated nodes by creating self-edges\n",
    "    z = matrix(rowSums(adj, , 1))\n",
    "    \n",
    "    transition_matrix = adj / repmat(z, 1, n)  # normalize to get probabilities\n",
    "    \n",
    "    return(transition_matrix)\n",
    "}"
   ]
  },
  {
   "cell_type": "markdown",
   "metadata": {},
   "source": [
    "### Transition Matrix for an Undirected Network\n"
   ]
  },
  {
   "cell_type": "code",
   "execution_count": 27,
   "metadata": {},
   "outputs": [
    {
     "name": "stdout",
     "output_type": "stream",
     "text": [
      "8 x 8 sparse Matrix of class \"dgCMatrix\"\n",
      "                                                                  \n",
      "[1,] .    1.0000000 .         .         . .         .    .        \n",
      "[2,] 0.25 .         0.2500000 0.2500000 . 0.2500000 .    .        \n",
      "[3,] .    0.5000000 .         .         . .         .    0.5000000\n",
      "[4,] .    0.2500000 .         .         . 0.2500000 0.25 0.2500000\n",
      "[5,] .    .         .         .         1 .         .    .        \n",
      "[6,] .    0.3333333 .         0.3333333 . .         .    0.3333333\n",
      "[7,] .    .         .         1.0000000 . .         .    .        \n",
      "[8,] .    .         0.3333333 0.3333333 . 0.3333333 .    .        \n"
     ]
    },
    {
     "data": {
      "image/png": "[encoded data removed]",
      "text/plain": [
       "Plot with title \"\""
      ]
     },
     "metadata": {},
     "output_type": "display_data"
    }
   ],
   "source": [
    "set.seed(0)\n",
    "g = random.graph.game(8, 0.3)\n",
    "plot(g)\n",
    "print(create_transition_matrix(g))"
   ]
  },
  {
   "cell_type": "markdown",
   "metadata": {},
   "source": [
    "### Transition Matrix for a Directed Network"
   ]
  },
  {
   "cell_type": "code",
   "execution_count": 28,
   "metadata": {},
   "outputs": [
    {
     "name": "stdout",
     "output_type": "stream",
     "text": [
      "8 x 8 sparse Matrix of class \"dgCMatrix\"\n",
      "                                                                    \n",
      "[1,] .    .         .    0.5000000 0.5000000 .         .         .  \n",
      "[2,] 0.20 .         .    .         0.2000000 0.2000000 0.2000000 0.2\n",
      "[3,] .    0.3333333 .    0.3333333 .         0.3333333 .         .  \n",
      "[4,] 0.25 .         0.25 .         0.2500000 .         0.2500000 .  \n",
      "[5,] .    0.5000000 .    .         .         .         .         0.5\n",
      "[6,] .    0.3333333 .    .         0.3333333 .         0.3333333 .  \n",
      "[7,] .    .         .    .         .         .         1.0000000 .  \n",
      "[8,] .    0.2500000 0.25 .         0.2500000 .         0.2500000 .  \n"
     ]
    },
    {
     "data": {
      "image/png": "[encoded data removed]",
      "text/plain": [
       "Plot with title \"\""
      ]
     },
     "metadata": {},
     "output_type": "display_data"
    }
   ],
   "source": [
    "set.seed(1)\n",
    "g = random.graph.game(8, 0.4, directed = T)\n",
    "plot(g)\n",
    "print(create_transition_matrix(g))"
   ]
  },
  {
   "cell_type": "code",
   "execution_count": 107,
   "metadata": {},
   "outputs": [],
   "source": [
    "random_walk = function (g, num_steps, start_node, teleportation = 0.0, transition_matrix = NULL){\n",
    "    if(is.null(transition_matrix))\n",
    "        transition_matrix = create_transition_matrix(g)\n",
    "    alist = c()    \n",
    "    v = start_node\n",
    "#     telecount = 0\n",
    "    for(i in 1:num_steps){\n",
    "\n",
    "#         fprintf('Step %d: %d\\n', i, v)  # COMMENT THIS\n",
    "        PMF = transition_matrix[v, ]\n",
    "        if (teleportation > 0.0 && sample(0:100) <= teleportation*100){\n",
    "            v <- sample(1:vcount(g), 1)\n",
    "#             telecount = telecount + 1\n",
    "        }else {\n",
    "        v <- sample(1:vcount(g), 1, prob = PMF)  \n",
    "        }\n",
    "        alist = append(alist, v)\n",
    "    }\n",
    "#     print(telecount)\n",
    "    return(alist)\n",
    "}"
   ]
  },
  {
   "cell_type": "code",
   "execution_count": null,
   "metadata": {},
   "outputs": [],
   "source": []
  },
  {
   "cell_type": "code",
   "execution_count": 108,
   "metadata": {},
   "outputs": [],
   "source": [
    "set.seed(1)\n",
    "v_last = random_walk(g, 15, 1)"
   ]
  },
  {
   "cell_type": "code",
   "execution_count": 109,
   "metadata": {},
   "outputs": [
    {
     "name": "stdout",
     "output_type": "stream",
     "text": [
      "IGRAPH daef4f9 D--- 1000 3990 -- Barabasi graph\n",
      "+ attr: name (g/c), power (g/n), m (g/n), zero.appeal (g/n), algorithm\n",
      "| (g/c)\n",
      "+ edges from daef4f9:\n",
      " [1]  2-> 1  3-> 1  3-> 2  4-> 1  4-> 2  4-> 3  5-> 1  5-> 2  5-> 3  5-> 4\n",
      "[11]  6-> 2  6-> 3  6-> 5  6-> 1  7-> 4  7-> 5  7-> 1  7-> 3  8-> 1  8-> 2\n",
      "[21]  8-> 4  8-> 3  9-> 2  9-> 5  9-> 1  9-> 4 10-> 3 10-> 2 10-> 1 10-> 7\n",
      "[31] 11-> 4 11-> 5 11-> 1 11-> 6 12-> 2 12-> 6 12-> 4 12-> 5 13-> 4 13-> 3\n",
      "[41] 13-> 6 13-> 1 14-> 3 14-> 5 14-> 4 14-> 2 15-> 7 15-> 3 15-> 1 15-> 2\n",
      "[51] 16-> 1 16-> 3 16-> 5 16-> 6 17-> 3 17->11 17-> 2 17-> 4 18-> 2 18-> 5\n",
      "[61] 18-> 3 18-> 4 19-> 6 19-> 1 19->11 19-> 3 20-> 8 20-> 3 20-> 2 20-> 5\n",
      "+ ... omitted several edges\n"
     ]
    }
   ],
   "source": [
    "graph_1 <- sample_pa(n=1000, m=4, directed=T)\n",
    "graph_2 <- sample_pa(n=1000, m=4, directed=T)\n",
    "print(graph_1)\n"
   ]
  },
  {
   "cell_type": "code",
   "execution_count": 110,
   "metadata": {},
   "outputs": [],
   "source": [
    "\n",
    "merged_graph = add_edges(graph_1, t(as_edgelist(permute(graph_2, sample(vcount(graph_2))))), attr = list())\n"
   ]
  },
  {
   "cell_type": "code",
   "execution_count": 117,
   "metadata": {},
   "outputs": [],
   "source": [
    "\n",
    "z = random_walk(merged_graph, 1000, sample( 1:vcount(merged_graph),1))\n",
    "i = 0\n",
    "while(i < 100) {\n",
    "    z = append(z, random_walk(merged_graph, 1000, sample( 1:vcount(merged_graph),1)))\n",
    "    i<-i+1 } "
   ]
  },
  {
   "cell_type": "code",
   "execution_count": 118,
   "metadata": {},
   "outputs": [
    {
     "data": {
      "text/html": [
       "258"
      ],
      "text/latex": [
       "258"
      ],
      "text/markdown": [
       "258"
      ],
      "text/plain": [
       "[1] 258"
      ]
     },
     "metadata": {},
     "output_type": "display_data"
    }
   ],
   "source": [
    "degree(merged_graph, 3)"
   ]
  },
  {
   "cell_type": "code",
   "execution_count": 124,
   "metadata": {},
   "outputs": [
    {
     "name": "stdout",
     "output_type": "stream",
     "text": [
      "[1] 1\n",
      "\n",
      "Call:\n",
      "lm(formula = probability ~ deg)\n",
      "\n",
      "Coefficients:\n",
      "(Intercept)          deg  \n",
      "  6.682e-05    1.189e-04  \n",
      "\n"
     ]
    },
    {
     "data": {
      "image/png": "[encoded data removed]",
      "text/plain": [
       "Plot with title \"No teleportation\""
      ]
     },
     "metadata": {},
     "output_type": "display_data"
    }
   ],
   "source": [
    "hello = as.data.frame(table(z))\n",
    "summs = sum(hello['Freq'])\n",
    "# print(hello)\n",
    "probability = c()\n",
    "deg= c()\n",
    "print(length(hello['z']))\n",
    "for(i in 1:nrow(hello['z'])){\n",
    "\n",
    "        probability = append(probability, hello[i,'Freq']/summs )\n",
    "        deg = append(deg ,degree(merged_graph, hello[i,'z']))\n",
    "    }\n",
    "# print(lengths(hello['z']))\n",
    "# print(lengths(probability))\n",
    "# print(probability)\n",
    "# print(hello['z'])\n",
    "\n",
    "plot(deg,probability, main=\"No teleportation\", xlab=\"Degree ov vertex\", ylab=\"Probability of landing on vertex\")\n",
    "abline(lm(probability ~ deg ))\n",
    "print(lm(probability ~ deg ))\n",
    "# print(a)"
   ]
  },
  {
   "cell_type": "code",
   "execution_count": null,
   "metadata": {},
   "outputs": [],
   "source": []
  },
  {
   "cell_type": "code",
   "execution_count": 114,
   "metadata": {},
   "outputs": [
    {
     "name": "stdout",
     "output_type": "stream",
     "text": [
      "[1] 2099\n"
     ]
    }
   ],
   "source": [
    "print(hello[3 ,'Freq'])\n"
   ]
  },
  {
   "cell_type": "code",
   "execution_count": 115,
   "metadata": {},
   "outputs": [],
   "source": [
    "zz = random_walk(merged_graph,500, sample(1:vcount(merged_graph),1),0.15)\n",
    "i = 0\n",
    "while(i < 100) {\n",
    "    zz = append(zz, random_walk(merged_graph,500, sample(1:vcount(merged_graph),1),0.15))\n",
    "    i<-i+1 } "
   ]
  },
  {
   "cell_type": "code",
   "execution_count": 128,
   "metadata": {},
   "outputs": [
    {
     "name": "stdout",
     "output_type": "stream",
     "text": [
      "[1] 1\n",
      "\n",
      "Call:\n",
      "lm(formula = probability ~ deg)\n",
      "\n",
      "Coefficients:\n",
      "(Intercept)          deg  \n",
      " -4.706e-04    9.217e-05  \n",
      "\n"
     ]
    },
    {
     "data": {
      "image/png": "[encoded data removed]",
      "text/plain": [
       "Plot with title \"With teleportation\""
      ]
     },
     "metadata": {},
     "output_type": "display_data"
    }
   ],
   "source": [
    "hello = as.data.frame(table(zz))\n",
    "# print(hello)\n",
    "summs = sum(hello['Freq'])\n",
    "\n",
    "probability = c()\n",
    "deg= c()\n",
    "print(length(hello['zz']))\n",
    "for(i in 1:nrow(hello['zz'])){\n",
    "\n",
    "        probability = append(probability, hello[i,'Freq']/summs )\n",
    "        deg = append(deg ,degree(merged_graph, hello[i,'zz']))\n",
    "    }\n",
    "# print(lengths(hello['z']))\n",
    "# print(lengths(probability))\n",
    "# print(probability)\n",
    "# print(hello['z'])\n",
    "\n",
    "plot(deg,probability, main=\"With teleportation\", xlab=\"Degree of vertex\", ylab=\"Probability of landing on vertex\")\n",
    "abline(lm(probability ~ deg ))\n",
    "print(lm(probability ~ deg ))\n",
    "\n",
    "# print(a)"
   ]
  },
  {
   "cell_type": "code",
   "execution_count": 120,
   "metadata": {},
   "outputs": [
    {
     "ename": "ERROR",
     "evalue": "Error in int_abline(a = a, b = b, h = h, v = v, untf = untf, ...): plot.new has not been called yet\n",
     "output_type": "error",
     "traceback": [
      "Error in int_abline(a = a, b = b, h = h, v = v, untf = untf, ...): plot.new has not been called yet\nTraceback:\n",
      "1. abline(lm(deg ~ probability))",
      "2. int_abline(a = a, b = b, h = h, v = v, untf = untf, ...)"
     ]
    }
   ],
   "source": [
    "\n"
   ]
  },
  {
   "cell_type": "code",
   "execution_count": null,
   "metadata": {},
   "outputs": [],
   "source": []
  }
 ],
 "metadata": {
  "kernelspec": {
   "display_name": "R",
   "language": "R",
   "name": "ir"
  },
  "language_info": {
   "codemirror_mode": "r",
   "file_extension": ".r",
   "mimetype": "text/x-r-source",
   "name": "R",
   "pygments_lexer": "r",
   "version": "3.6.1"
  },
  "varInspector": {
   "cols": {
    "lenName": 16,
    "lenType": 16,
    "lenVar": 40
   },
   "kernels_config": {
    "python": {
     "delete_cmd_postfix": "",
     "delete_cmd_prefix": "del ",
     "library": "var_list.py",
     "varRefreshCmd": "print(var_dic_list())"
    },
    "r": {
     "delete_cmd_postfix": ") ",
     "delete_cmd_prefix": "rm(",
     "library": "var_list.r",
     "varRefreshCmd": "cat(var_dic_list()) "
    }
   },
   "types_to_exclude": [
    "module",
    "function",
    "builtin_function_or_method",
    "instance",
    "_Feature"
   ],
   "window_display": false
  }
 },
 "nbformat": 4,
 "nbformat_minor": 2
}
